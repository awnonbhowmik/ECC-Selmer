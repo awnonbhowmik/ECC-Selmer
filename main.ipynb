{
 "cells": [
  {
   "cell_type": "code",
   "execution_count": 1,
   "metadata": {},
   "outputs": [
    {
     "name": "stdout",
     "output_type": "stream",
     "text": [
      "179\n"
     ]
    }
   ],
   "source": [
    "# Generate a large prime p\n",
    "\n",
    "import random\n",
    "import math\n",
    "\n",
    "def is_prime(n):\n",
    "    if n == 2:\n",
    "        return True\n",
    "    if n % 2 == 0:\n",
    "        return False\n",
    "    for i in range(3, math.isqrt(n) + 1, 2):\n",
    "        if n % i == 0:\n",
    "            return False\n",
    "    return True\n",
    "\n",
    "def generate_prime(bits):\n",
    "    while True:\n",
    "        p = random.getrandbits(bits)\n",
    "        p |= (1 << bits - 1) | 1\n",
    "        if is_prime(p):\n",
    "            return p\n",
    "\n",
    "p = generate_prime(8)\n",
    "print(p)"
   ]
  },
  {
   "cell_type": "code",
   "execution_count": 2,
   "metadata": {},
   "outputs": [
    {
     "name": "stdout",
     "output_type": "stream",
     "text": [
      "GF(179)\n"
     ]
    }
   ],
   "source": [
    "# Define the Galois field GF(p)\n",
    "\n",
    "class GF:\n",
    "    def __init__(self, p):\n",
    "        self.p = p\n",
    "\n",
    "    def add(self, a, b):\n",
    "        return (a + b) % self.p\n",
    "\n",
    "    def sub(self, a, b):\n",
    "        return (a - b) % self.p\n",
    "\n",
    "    def mul(self, a, b):\n",
    "        return (a * b) % self.p\n",
    "\n",
    "    def div(self, a, b):\n",
    "        return (a * pow(b, self.p - 2, self.p)) % self.p\n",
    "\n",
    "    def pow(self, a, b):\n",
    "        return pow(a, b, self.p)\n",
    "\n",
    "    def inv(self, a):\n",
    "        return pow(a, self.p - 2, self.p)\n",
    "    \n",
    "    def det(self, a):\n",
    "        return (a[0][0] * a[1][1] - a[0][1] * a[1][0]) % self.p\n",
    "\n",
    "    def sqrt(self, a):\n",
    "        return pow(a, (self.p + 1) // 4, self.p)\n",
    "\n",
    "    def rand(self):\n",
    "        return random.randint(0, self.p - 1)\n",
    "    \n",
    "    def __str__(self):\n",
    "        return f\"GF({self.p})\"\n",
    "    \n",
    "    def __repr__(self):\n",
    "        return str(self)\n",
    "    \n",
    "gf = GF(p)\n",
    "print(gf)"
   ]
  },
  {
   "cell_type": "code",
   "execution_count": 3,
   "metadata": {},
   "outputs": [
    {
     "name": "stdout",
     "output_type": "stream",
     "text": [
      "[139, 48, 1]\n"
     ]
    }
   ],
   "source": [
    "# Choose an irreducible Selmer cubic polynomial f(x) over Q[x]\n",
    "\n",
    "def is_irreducible(f):\n",
    "    for i in range(1, len(f) // 2 + 1):\n",
    "        if len(f) % i != 0:\n",
    "            continue\n",
    "        for j in range(1, len(f) // i):\n",
    "            if f[:i] * j == f:\n",
    "                return False\n",
    "    return True\n",
    "\n",
    "def generate_irreducible(p, n):\n",
    "    while True:\n",
    "        f = [gf.rand() for _ in range(n)]\n",
    "        f[-1] = 1\n",
    "        if is_irreducible(f):\n",
    "            return f\n",
    "\n",
    "f = generate_irreducible(p, 3)\n",
    "print(f)"
   ]
  },
  {
   "cell_type": "code",
   "execution_count": 4,
   "metadata": {},
   "outputs": [
    {
     "name": "stdout",
     "output_type": "stream",
     "text": [
      "EllipticCurve(GF(179), [139, 48, 1])\n"
     ]
    }
   ],
   "source": [
    "# Define an elliptic curve E over GF(p) using f(x)\n",
    "\n",
    "class EllipticCurve:\n",
    "    def __init__(self, gf, f):\n",
    "        self.gf = gf\n",
    "        self.f = f\n",
    "\n",
    "    def add(self, p, q):\n",
    "        x1, y1 = p\n",
    "        x2, y2 = q\n",
    "        if p == q:\n",
    "            m = self.gf.div(self.gf.add(self.gf.mul(3, self.gf.mul(x1, x1)), self.f[1]), self.gf.mul(2, y1))\n",
    "        else:\n",
    "            m = self.gf.div(self.gf.sub(y2, y1), self.gf.sub(x2, x1))\n",
    "        x3 = self.gf.sub(self.gf.sub(self.gf.mul(m, m), x1), x2)\n",
    "        y3 = self.gf.sub(self.gf.mul(m, self.gf.sub(x1, x3)), y1)\n",
    "        return x3, y3\n",
    "    \n",
    "    def sub(self, p, q):\n",
    "        return self.add(p, (q[0], self.gf.sub(0, q[1])))\n",
    "\n",
    "    def mul(self, p, n):\n",
    "        q = (0, 1)\n",
    "        for _ in range(n.bit_length()):\n",
    "            q = self.add(q, q)\n",
    "            if n & 1:\n",
    "                q = self.add(q, p)\n",
    "            n >>= 1\n",
    "        return q\n",
    "\n",
    "    def rand(self):\n",
    "        x = self.gf.rand()\n",
    "        y = self.gf.sqrt(self.gf.add(self.gf.add(self.gf.mul(x, x), self.gf.mul(x, self.f[0])), self.f[1]))\n",
    "        return x, y\n",
    "\n",
    "    def __str__(self):\n",
    "        return f\"EllipticCurve({self.gf}, {self.f})\"\n",
    "    \n",
    "    def __repr__(self):\n",
    "        return str(self)\n",
    "    \n",
    "ec = EllipticCurve(gf, f)\n",
    "print(ec)"
   ]
  },
  {
   "cell_type": "code",
   "execution_count": 5,
   "metadata": {},
   "outputs": [
    {
     "name": "stdout",
     "output_type": "stream",
     "text": [
      "Public key (P,Q,B): ((160, 169), (177, 5), [[62, 149, 137], [94, 44, 48], [32, 5, 119]])\n",
      "Private key d: 176\n"
     ]
    }
   ],
   "source": [
    "# Select a random integer d in [1, p - 1] as the private key\n",
    "\n",
    "d = random.randint(1, p - 1)\n",
    "\n",
    "# compute the public key P = d * G where G is the base point of E\n",
    "\n",
    "G = ec.rand()\n",
    "P = ec.mul(G, d)\n",
    "\n",
    "# Compute Q = f(P) using the Selmer cubic polynomial f(x)\n",
    "\n",
    "Q = ec.mul(P, 3)\n",
    "\n",
    "# Generate a random nxn invertible matrix B over GF(p)\n",
    "\n",
    "def generate_invertible(p, n):\n",
    "    while True:\n",
    "        B = [[gf.rand() for _ in range(n)] for _ in range(n)]\n",
    "        if math.isclose(gf.pow(gf.det(B), gf.inv(n)), 1):\n",
    "            return B\n",
    "\n",
    "B = generate_invertible(p, 3)\n",
    "\n",
    "# Return (P,Q,B) as the public key and d as the private key\n",
    "\n",
    "print(f'Public key (P,Q,B): ({P}, {Q}, {B})', f'Private key d: {d}', sep='\\n')\n"
   ]
  },
  {
   "cell_type": "code",
   "execution_count": 6,
   "metadata": {},
   "outputs": [
    {
     "name": "stdout",
     "output_type": "stream",
     "text": [
      "Ciphertext C: (129, 121)\n"
     ]
    }
   ],
   "source": [
    "# Encryption Algorithm\n",
    "\n",
    "# Plaintext message M is a simple string\n",
    "M = 'Hello, world!'\n",
    "\n",
    "# Plaintext message M into a point M_p on the elliptic curve E\n",
    "M_p = ec.rand()\n",
    "\n",
    "# Generate a random integer k in [1, p - 1]\n",
    "k = random.randint(1, p - 1)\n",
    "\n",
    "# Compute the ciphertext C = (k * G, M_p + k * Q)\n",
    "C = ec.add(ec.mul(G, k), ec.add(M_p, ec.mul(Q, k)))\n",
    "\n",
    "# Return C as the ciphertext\n",
    "print(f'Ciphertext C: {C}')"
   ]
  },
  {
   "cell_type": "code",
   "execution_count": 7,
   "metadata": {},
   "outputs": [
    {
     "ename": "TypeError",
     "evalue": "cannot unpack non-iterable int object",
     "output_type": "error",
     "traceback": [
      "\u001b[0;31m---------------------------------------------------------------------------\u001b[0m",
      "\u001b[0;31mTypeError\u001b[0m                                 Traceback (most recent call last)",
      "Cell \u001b[0;32mIn[7], line 4\u001b[0m\n\u001b[1;32m      1\u001b[0m \u001b[38;5;66;03m# Decryption Algorithm\u001b[39;00m\n\u001b[1;32m      2\u001b[0m \n\u001b[1;32m      3\u001b[0m \u001b[38;5;66;03m# Compute shared secret S = d * C[0]\u001b[39;00m\n\u001b[0;32m----> 4\u001b[0m S \u001b[38;5;241m=\u001b[39m ec\u001b[38;5;241m.\u001b[39mmul(C[\u001b[38;5;241m0\u001b[39m], d)\n\u001b[1;32m      6\u001b[0m \u001b[38;5;66;03m# Recover the transformed message point M_p' = C[1] - S\u001b[39;00m\n\u001b[1;32m      7\u001b[0m M_p_prime \u001b[38;5;241m=\u001b[39m ec\u001b[38;5;241m.\u001b[39msub(C[\u001b[38;5;241m1\u001b[39m], S)\n",
      "Cell \u001b[0;32mIn[4], line 27\u001b[0m, in \u001b[0;36mEllipticCurve.mul\u001b[0;34m(self, p, n)\u001b[0m\n\u001b[1;32m     25\u001b[0m     q \u001b[38;5;241m=\u001b[39m \u001b[38;5;28mself\u001b[39m\u001b[38;5;241m.\u001b[39madd(q, q)\n\u001b[1;32m     26\u001b[0m     \u001b[38;5;28;01mif\u001b[39;00m n \u001b[38;5;241m&\u001b[39m \u001b[38;5;241m1\u001b[39m:\n\u001b[0;32m---> 27\u001b[0m         q \u001b[38;5;241m=\u001b[39m \u001b[38;5;28mself\u001b[39m\u001b[38;5;241m.\u001b[39madd(q, p)\n\u001b[1;32m     28\u001b[0m     n \u001b[38;5;241m>>\u001b[39m\u001b[38;5;241m=\u001b[39m \u001b[38;5;241m1\u001b[39m\n\u001b[1;32m     29\u001b[0m \u001b[38;5;28;01mreturn\u001b[39;00m q\n",
      "Cell \u001b[0;32mIn[4], line 10\u001b[0m, in \u001b[0;36mEllipticCurve.add\u001b[0;34m(self, p, q)\u001b[0m\n\u001b[1;32m      8\u001b[0m \u001b[38;5;28;01mdef\u001b[39;00m \u001b[38;5;21madd\u001b[39m(\u001b[38;5;28mself\u001b[39m, p, q):\n\u001b[1;32m      9\u001b[0m     x1, y1 \u001b[38;5;241m=\u001b[39m p\n\u001b[0;32m---> 10\u001b[0m     x2, y2 \u001b[38;5;241m=\u001b[39m q\n\u001b[1;32m     11\u001b[0m     \u001b[38;5;28;01mif\u001b[39;00m p \u001b[38;5;241m==\u001b[39m q:\n\u001b[1;32m     12\u001b[0m         m \u001b[38;5;241m=\u001b[39m \u001b[38;5;28mself\u001b[39m\u001b[38;5;241m.\u001b[39mgf\u001b[38;5;241m.\u001b[39mdiv(\u001b[38;5;28mself\u001b[39m\u001b[38;5;241m.\u001b[39mgf\u001b[38;5;241m.\u001b[39madd(\u001b[38;5;28mself\u001b[39m\u001b[38;5;241m.\u001b[39mgf\u001b[38;5;241m.\u001b[39mmul(\u001b[38;5;241m3\u001b[39m, \u001b[38;5;28mself\u001b[39m\u001b[38;5;241m.\u001b[39mgf\u001b[38;5;241m.\u001b[39mmul(x1, x1)), \u001b[38;5;28mself\u001b[39m\u001b[38;5;241m.\u001b[39mf[\u001b[38;5;241m1\u001b[39m]), \u001b[38;5;28mself\u001b[39m\u001b[38;5;241m.\u001b[39mgf\u001b[38;5;241m.\u001b[39mmul(\u001b[38;5;241m2\u001b[39m, y1))\n",
      "\u001b[0;31mTypeError\u001b[0m: cannot unpack non-iterable int object"
     ]
    }
   ],
   "source": [
    "# Decryption Algorithm\n",
    "\n",
    "# Compute shared secret S = d * C[0]\n",
    "S = ec.mul(C[0], d)\n",
    "\n",
    "# Recover the transformed message point M_p' = C[1] - S\n",
    "M_p_prime = ec.sub(C[1], S)\n",
    "\n",
    "# Compute the inverse matrix B_inv of B over GF(p)\n",
    "B_inv = [[gf.inv(B[j][i]) for j in range(3)] for i in range(3)]\n",
    "\n",
    "# Recover the original message point M_p = B_inv * M_p'\n",
    "M_p = [sum([gf.mul(B_inv[i][j], M_p_prime[j]) for j in range(3)]) % p for i in range(3)]\n",
    "\n",
    "# Return M_p as the plaintext message\n",
    "print(f'Plaintext message M_p: {M_p}')"
   ]
  }
 ],
 "metadata": {
  "kernelspec": {
   "display_name": "pyenv",
   "language": "python",
   "name": "python3"
  },
  "language_info": {
   "codemirror_mode": {
    "name": "ipython",
    "version": 3
   },
   "file_extension": ".py",
   "mimetype": "text/x-python",
   "name": "python",
   "nbconvert_exporter": "python",
   "pygments_lexer": "ipython3",
   "version": "3.11.10"
  }
 },
 "nbformat": 4,
 "nbformat_minor": 2
}
